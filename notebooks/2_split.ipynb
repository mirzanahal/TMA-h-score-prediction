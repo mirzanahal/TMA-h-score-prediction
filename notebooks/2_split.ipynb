{
 "cells": [
  {
   "cell_type": "code",
   "execution_count": 1,
   "metadata": {},
   "outputs": [],
   "source": [
    "import sys, os\n",
    "\n",
    "sys.path.append(os.path.dirname('../deepslide'))\n",
    "sys.path.append('../deepslide/')"
   ]
  },
  {
   "cell_type": "code",
   "execution_count": 2,
   "metadata": {},
   "outputs": [],
   "source": [
    "from pathlib import Path\n",
    "\n",
    "from deepslide.split import split"
   ]
  },
  {
   "cell_type": "code",
   "execution_count": 4,
   "metadata": {},
   "outputs": [
    {
     "name": "stdout",
     "output_type": "stream",
     "text": [
      "class high #train=25 #val=3 #test=7\n",
      "class low #train=106 #val=14 #test=29\n",
      "class medium #train=62 #val=8 #test=17\n"
     ]
    }
   ],
   "source": [
    "split(\n",
    "    keep_orig_copy= True,\n",
    "    tma_train= Path('../data/splited_data/train'),\n",
    "    tma_val= Path('../data/splited_data/val'),\n",
    "    tma_test= Path('../data/splited_data/test'),\n",
    "    classes= ['low', 'medium', 'high'],\n",
    "    all_tma= Path('../data/cyto_class/'),\n",
    "    val_tma_ratio_class= 0.1,\n",
    "    test_tma_ratio_class= 0.2,\n",
    "    labels_train= Path('../data/splited_label/train'),\n",
    "    labels_val= Path('../data/splited_label/val'),\n",
    "    labels_test= Path('../data/splited_label/test')\n",
    ")"
   ]
  },
  {
   "cell_type": "code",
   "execution_count": null,
   "metadata": {},
   "outputs": [],
   "source": []
  }
 ],
 "metadata": {
  "kernelspec": {
   "display_name": ".venv",
   "language": "python",
   "name": "python3"
  },
  "language_info": {
   "codemirror_mode": {
    "name": "ipython",
    "version": 3
   },
   "file_extension": ".py",
   "mimetype": "text/x-python",
   "name": "python",
   "nbconvert_exporter": "python",
   "pygments_lexer": "ipython3",
   "version": "3.9.13"
  },
  "orig_nbformat": 4
 },
 "nbformat": 4,
 "nbformat_minor": 2
}
