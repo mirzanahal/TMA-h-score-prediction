{
 "cells": [
  {
   "cell_type": "markdown",
   "metadata": {},
   "source": [
    "# Patch and balance dataset"
   ]
  },
  {
   "cell_type": "code",
   "execution_count": 1,
   "metadata": {},
   "outputs": [],
   "source": [
    "import sys, os\n",
    "\n",
    "sys.path.append(os.path.dirname('../deepslide'))\n",
    "sys.path.append('../deepslide/')"
   ]
  },
  {
   "cell_type": "markdown",
   "metadata": {},
   "source": [
    "## Import Libraries"
   ]
  },
  {
   "cell_type": "code",
   "execution_count": 2,
   "metadata": {},
   "outputs": [],
   "source": [
    "from pathlib import Path\n",
    "\n",
    "from deepslide.preprocess import *"
   ]
  },
  {
   "cell_type": "markdown",
   "metadata": {},
   "source": [
    "## Generate training patches"
   ]
  },
  {
   "cell_type": "code",
   "execution_count": 3,
   "metadata": {},
   "outputs": [
    {
     "name": "stdout",
     "output_type": "stream",
     "text": [
      "[PosixPath('../data/splited_data/train/high'), PosixPath('../data/splited_data/train/low'), PosixPath('../data/splited_data/train/medium')] subfolders found from ../data/splited_data/train\n",
      "../data/splited_data/train/high: 114.055794MB, 25 images, overlap_factor=7.92\n",
      "../data/splited_data/train/low: 455.638151MB, 106 images, overlap_factor=2.80\n",
      "../data/splited_data/train/medium: 292.207846MB, 62 images, overlap_factor=3.91\n",
      "\n",
      "getting small crops from 25 images in ../data/splited_data/train/high with inverse overlap factor 7.92 outputting in ../data/patches/train/high\n",
      "finished patches from ../data/splited_data/train/high with inverse overlap factor 7.92 in 644.75 seconds outputting in ../data/patches/train/high for 5188 patches\n",
      "\n",
      "getting small crops from 106 images in ../data/splited_data/train/low with inverse overlap factor 2.80 outputting in ../data/patches/train/low\n",
      "finished patches from ../data/splited_data/train/low with inverse overlap factor 2.80 in 915.78 seconds outputting in ../data/patches/train/low for 6268 patches\n",
      "\n",
      "getting small crops from 62 images in ../data/splited_data/train/medium with inverse overlap factor 3.91 outputting in ../data/patches/train/medium\n",
      "finished patches from ../data/splited_data/train/medium with inverse overlap factor 3.91 in 703.99 seconds outputting in ../data/patches/train/medium for 3598 patches\n",
      "\n",
      "finished all folders\n",
      "\n"
     ]
    }
   ],
   "source": [
    "gen_train_patches(\n",
    "    input_folder= Path('../data/splited_data/train/'),\n",
    "    output_folder= Path('../data/patches/train'),\n",
    "    num_train_per_class= 300,\n",
    "    num_workers= 8,\n",
    "    patch_size= 672,\n",
    "    purple_threshold= 40,\n",
    "    purple_scale_size= 15,\n",
    "    image_ext= 'jpg',\n",
    "    type_histopath= True)"
   ]
  },
  {
   "cell_type": "markdown",
   "metadata": {},
   "source": [
    "## Balance Training patches"
   ]
  },
  {
   "cell_type": "code",
   "execution_count": 4,
   "metadata": {},
   "outputs": [
    {
     "name": "stdout",
     "output_type": "stream",
     "text": [
      "balancing ../data/patches/train/high by duplicating 1080\n",
      "balancing ../data/patches/train/low by duplicating 0\n",
      "balancing ../data/patches/train/medium by duplicating 2670\n",
      "balanced all training classes to have 6268 images\n",
      "\n"
     ]
    }
   ],
   "source": [
    "balance_classes(training_folder=Path('../data/patches/train/'))"
   ]
  },
  {
   "cell_type": "markdown",
   "metadata": {},
   "source": [
    "## Generate Validation patches"
   ]
  },
  {
   "cell_type": "code",
   "execution_count": 5,
   "metadata": {},
   "outputs": [
    {
     "name": "stdout",
     "output_type": "stream",
     "text": [
      "3 subfolders found from ../data/splited_data/val\n",
      "\n",
      "getting small crops from 3 images in ../data/splited_data/val/high with inverse overlap factor 2.00 outputting in ../data/patches/val/high\n",
      "finished patches from ../data/splited_data/val/high with inverse overlap factor 2.00 in 22.67 seconds outputting in ../data/patches/val/high for 9 patches\n",
      "\n",
      "getting small crops from 14 images in ../data/splited_data/val/low with inverse overlap factor 2.00 outputting in ../data/patches/val/low\n",
      "finished patches from ../data/splited_data/val/low with inverse overlap factor 2.00 in 99.22 seconds outputting in ../data/patches/val/low for 241 patches\n",
      "\n",
      "getting small crops from 8 images in ../data/splited_data/val/medium with inverse overlap factor 2.00 outputting in ../data/patches/val/medium\n",
      "finished patches from ../data/splited_data/val/medium with inverse overlap factor 2.00 in 60.38 seconds outputting in ../data/patches/val/medium for 71 patches\n",
      "\n",
      "finished all folders\n",
      "\n"
     ]
    }
   ],
   "source": [
    "gen_val_patches(\n",
    "    input_folder= Path('../data/splited_data/val/'),\n",
    "    output_folder= Path('../data/patches/val'),\n",
    "    overlap_factor= 2,\n",
    "    num_workers= 8,\n",
    "    patch_size= 672,\n",
    "    purple_threshold= 40,\n",
    "    purple_scale_size= 15,\n",
    "    image_ext= 'jpg',\n",
    "    type_histopath= True)"
   ]
  },
  {
   "cell_type": "code",
   "execution_count": 7,
   "metadata": {},
   "outputs": [
    {
     "name": "stdout",
     "output_type": "stream",
     "text": [
      "\n",
      "getting small crops from 25 images in ../data/splited_data/val with inverse overlap factor 3.00 outputting in ../data/patches/eval_val-purple_threshold=40\n",
      "../data/splited_data/val/high/pan-4c_25.jpg: num outputted windows: 13\n",
      "../data/splited_data/val/high/pan-4c_34.jpg: num outputted windows: 3\n",
      "../data/splited_data/val/high/pan-4c_55.jpg: num outputted windows: 1\n",
      "../data/splited_data/val/low/pan-4ab_41.jpg: num outputted windows: 16\n",
      "../data/splited_data/val/low/pan-4ab_43.jpg: num outputted windows: 2\n",
      "../data/splited_data/val/low/pan-4ab_46.jpg: num outputted windows: 27\n",
      "../data/splited_data/val/low/pan-4ab_47.jpg: num outputted windows: 42\n",
      "../data/splited_data/val/low/pan-4ab_48.jpg: num outputted windows: 26\n",
      "../data/splited_data/val/low/pan-4ab_49.jpg: num outputted windows: 16\n",
      "../data/splited_data/val/low/pan-4ab_57.jpg: num outputted windows: 3\n",
      "../data/splited_data/val/low/pan-4ab_62.jpg: num outputted windows: 9\n",
      "../data/splited_data/val/low/pan-4ab_63.jpg: num outputted windows: 56\n",
      "../data/splited_data/val/low/pan-4ab_66.jpg: num outputted windows: 4\n",
      "../data/splited_data/val/low/pan-4ab_72.jpg: num outputted windows: 65\n",
      "../data/splited_data/val/low/pan-4c_11.jpg: num outputted windows: 110\n",
      "../data/splited_data/val/low/pan-4c_13.jpg: num outputted windows: 129\n",
      "../data/splited_data/val/low/pan-4c_21.jpg: num outputted windows: 57\n",
      "../data/splited_data/val/medium/pan-4ab_53.jpg: num outputted windows: 12\n",
      "../data/splited_data/val/medium/pan-4ab_76.jpg: num outputted windows: 0\n",
      "../data/splited_data/val/medium/pan-4c_12.jpg: num outputted windows: 76\n",
      "../data/splited_data/val/medium/pan-4c_23.jpg: num outputted windows: 35\n",
      "../data/splited_data/val/medium/pan-4c_35.jpg: num outputted windows: 21\n",
      "../data/splited_data/val/medium/pan-5ab_17.jpg: num outputted windows: 0\n",
      "../data/splited_data/val/medium/pan-5ab_21.jpg: num outputted windows: 1\n",
      "../data/splited_data/val/medium/pan-5ab_24.jpg: num outputted windows: 8\n"
     ]
    }
   ],
   "source": [
    "produce_patches(\n",
    "    input_folder= Path('../data/splited_data/val/'),\n",
    "    output_folder= Path('../data/patches/eval_val-purple_threshold=40'),\n",
    "    inverse_overlap_factor= 3,\n",
    "    by_folder= True,\n",
    "    num_workers= 8,\n",
    "    patch_size= 672,\n",
    "    purple_threshold= 40,\n",
    "    purple_scale_size= 15,\n",
    "    image_ext= 'jpg',\n",
    "    type_histopath= True)"
   ]
  },
  {
   "cell_type": "markdown",
   "metadata": {},
   "source": [
    "## Generate test patches"
   ]
  },
  {
   "cell_type": "code",
   "execution_count": 8,
   "metadata": {},
   "outputs": [
    {
     "name": "stdout",
     "output_type": "stream",
     "text": [
      "\n",
      "getting small crops from 53 images in ../data/splited_data/test with inverse overlap factor 3.00 outputting in ../data/patches/eval_test-purple_threshold=40\n",
      "../data/splited_data/test/high/pan-5ab_27.jpg: num outputted windows: 13\n",
      "../data/splited_data/test/high/pan-5ab_34.jpg: num outputted windows: 76\n",
      "../data/splited_data/test/high/pan-5ab_35.jpg: num outputted windows: 5\n",
      "../data/splited_data/test/high/pan-5ab_44.jpg: num outputted windows: 13\n",
      "../data/splited_data/test/high/pan-5ab_47.jpg: num outputted windows: 68\n",
      "../data/splited_data/test/high/pan-5ab_63.jpg: num outputted windows: 2\n",
      "../data/splited_data/test/high/pan-5c_72.jpg: num outputted windows: 2\n",
      "../data/splited_data/test/low/pan-4c_31.jpg: num outputted windows: 41\n",
      "../data/splited_data/test/low/pan-4c_32.jpg: num outputted windows: 56\n",
      "../data/splited_data/test/low/pan-4c_44.jpg: num outputted windows: 86\n",
      "../data/splited_data/test/low/pan-4c_45.jpg: num outputted windows: 90\n",
      "../data/splited_data/test/low/pan-4c_51.jpg: num outputted windows: 48\n",
      "../data/splited_data/test/low/pan-4c_61.jpg: num outputted windows: 110\n",
      "../data/splited_data/test/low/pan-4c_62.jpg: num outputted windows: 21\n",
      "../data/splited_data/test/low/pan-4c_63.jpg: num outputted windows: 184\n",
      "../data/splited_data/test/low/pan-4c_64.jpg: num outputted windows: 95\n",
      "../data/splited_data/test/low/pan-4c_65.jpg: num outputted windows: 207\n",
      "../data/splited_data/test/low/pan-4c_74.jpg: num outputted windows: 47\n",
      "../data/splited_data/test/low/pan-5ab_12.jpg: num outputted windows: 44\n",
      "../data/splited_data/test/low/pan-5ab_14.jpg: num outputted windows: 0\n",
      "../data/splited_data/test/low/pan-5ab_15.jpg: num outputted windows: 119\n",
      "../data/splited_data/test/low/pan-5ab_23.jpg: num outputted windows: 1\n",
      "../data/splited_data/test/low/pan-5ab_51.jpg: num outputted windows: 27\n",
      "../data/splited_data/test/low/pan-5ab_53.jpg: num outputted windows: 27\n",
      "../data/splited_data/test/low/pan-5ab_61.jpg: num outputted windows: 243\n",
      "../data/splited_data/test/low/pan-5ab_71.jpg: num outputted windows: 49\n",
      "../data/splited_data/test/low/pan-5ab_74.jpg: num outputted windows: 104\n",
      "../data/splited_data/test/low/pan-5ab_77.jpg: num outputted windows: 114\n",
      "../data/splited_data/test/low/pan-5c_11.jpg: num outputted windows: 20\n",
      "../data/splited_data/test/low/pan-5c_12.jpg: num outputted windows: 56\n",
      "../data/splited_data/test/low/pan-5c_21.jpg: num outputted windows: 37\n",
      "../data/splited_data/test/low/pan-5c_23.jpg: num outputted windows: 87\n",
      "../data/splited_data/test/low/pan-5c_31.jpg: num outputted windows: 126\n",
      "../data/splited_data/test/low/pan-5c_43.jpg: num outputted windows: 11\n",
      "../data/splited_data/test/low/pan-5c_51.jpg: num outputted windows: 47\n",
      "../data/splited_data/test/low/pan-5c_71.jpg: num outputted windows: 0\n",
      "../data/splited_data/test/medium/pan-5ab_26.jpg: num outputted windows: 3\n",
      "../data/splited_data/test/medium/pan-5ab_32.jpg: num outputted windows: 0\n",
      "../data/splited_data/test/medium/pan-5ab_37.jpg: num outputted windows: 66\n",
      "../data/splited_data/test/medium/pan-5ab_43.jpg: num outputted windows: 214\n",
      "../data/splited_data/test/medium/pan-5ab_54.jpg: num outputted windows: 137\n",
      "../data/splited_data/test/medium/pan-5ab_56.jpg: num outputted windows: 22\n",
      "../data/splited_data/test/medium/pan-5ab_57.jpg: num outputted windows: 29\n",
      "../data/splited_data/test/medium/pan-5ab_64.jpg: num outputted windows: 39\n",
      "../data/splited_data/test/medium/pan-5ab_72.jpg: num outputted windows: 3\n",
      "../data/splited_data/test/medium/pan-5ab_75.jpg: num outputted windows: 27\n",
      "../data/splited_data/test/medium/pan-5c_13.jpg: num outputted windows: 34\n",
      "../data/splited_data/test/medium/pan-5c_14.jpg: num outputted windows: 3\n",
      "../data/splited_data/test/medium/pan-5c_32.jpg: num outputted windows: 1\n",
      "../data/splited_data/test/medium/pan-5c_34.jpg: num outputted windows: 0\n",
      "../data/splited_data/test/medium/pan-5c_44.jpg: num outputted windows: 19\n",
      "../data/splited_data/test/medium/pan-5c_53.jpg: num outputted windows: 7\n",
      "../data/splited_data/test/medium/pan-5c_64.jpg: num outputted windows: 8\n"
     ]
    }
   ],
   "source": [
    "produce_patches(\n",
    "    input_folder= Path('../data/splited_data/test/'),\n",
    "    output_folder= Path('../data/patches/eval_test-purple_threshold=40'),\n",
    "    inverse_overlap_factor= 3,\n",
    "    by_folder= True,\n",
    "    num_workers= 8,\n",
    "    patch_size= 672,\n",
    "    purple_threshold= 40,\n",
    "    purple_scale_size= 15,\n",
    "    image_ext= 'jpg',\n",
    "    type_histopath= True)"
   ]
  },
  {
   "cell_type": "code",
   "execution_count": null,
   "metadata": {},
   "outputs": [],
   "source": []
  },
  {
   "cell_type": "code",
   "execution_count": null,
   "metadata": {},
   "outputs": [],
   "source": []
  }
 ],
 "metadata": {
  "kernelspec": {
   "display_name": ".venv",
   "language": "python",
   "name": "python3"
  },
  "language_info": {
   "codemirror_mode": {
    "name": "ipython",
    "version": 3
   },
   "file_extension": ".py",
   "mimetype": "text/x-python",
   "name": "python",
   "nbconvert_exporter": "python",
   "pygments_lexer": "ipython3",
   "version": "3.9.13"
  },
  "orig_nbformat": 4
 },
 "nbformat": 4,
 "nbformat_minor": 2
}
