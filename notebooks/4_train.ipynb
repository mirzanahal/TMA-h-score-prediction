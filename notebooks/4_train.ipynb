{
 "cells": [
  {
   "cell_type": "markdown",
   "metadata": {},
   "source": [
    "# Train"
   ]
  },
  {
   "cell_type": "code",
   "execution_count": 2,
   "metadata": {},
   "outputs": [],
   "source": [
    "import sys, os\n",
    "\n",
    "sys.path.append(os.path.dirname('../deepslide'))\n",
    "sys.path.append('../deepslide/')"
   ]
  },
  {
   "cell_type": "markdown",
   "metadata": {},
   "source": [
    "## Import libraries"
   ]
  },
  {
   "cell_type": "code",
   "execution_count": 3,
   "metadata": {},
   "outputs": [
    {
     "name": "stderr",
     "output_type": "stream",
     "text": [
      "/Users/nahal/Documents/Education/Projects/TMA/h-score-prediction/notebooks/../deepslide/model.py:431: SyntaxWarning: \"is\" with a literal. Did you mean \"==\"?\n",
      "  shuffle=(x is \"train\"),\n"
     ]
    }
   ],
   "source": [
    "import torch\n",
    "import numpy as np\n",
    "from pathlib import Path\n",
    "\n",
    "from deepslide.model import train_resnet\n",
    "from deepslide.utils import get_log_csv_name\n",
    "from deepslide.compute_stats import compute_stats"
   ]
  },
  {
   "cell_type": "code",
   "execution_count": 4,
   "metadata": {},
   "outputs": [
    {
     "name": "stdout",
     "output_type": "stream",
     "text": [
      "18804\n"
     ]
    },
    {
     "name": "stderr",
     "output_type": "stream",
     "text": [
      "1006it [00:25, 41.26it/s]"
     ]
    },
    {
     "name": "stdout",
     "output_type": "stream",
     "text": [
      "Mean: [0.38446247577667236, 0.3544790744781494, 0.42088183760643005]; STD: [0.23278814554214478, 0.2486928552389145, 0.16552522778511047] at iter: 1000\n"
     ]
    },
    {
     "name": "stderr",
     "output_type": "stream",
     "text": [
      "2006it [00:49, 41.43it/s]"
     ]
    },
    {
     "name": "stdout",
     "output_type": "stream",
     "text": [
      "Mean: [0.3864690363407135, 0.3557492792606354, 0.42133113741874695]; STD: [0.23329275846481323, 0.24983710050582886, 0.16684533655643463] at iter: 2000\n"
     ]
    },
    {
     "name": "stderr",
     "output_type": "stream",
     "text": [
      "3008it [01:11, 46.37it/s]"
     ]
    },
    {
     "name": "stdout",
     "output_type": "stream",
     "text": [
      "Mean: [0.38721346855163574, 0.3561716675758362, 0.42155247926712036]; STD: [0.23318205773830414, 0.24990464746952057, 0.16713128983974457] at iter: 3000\n"
     ]
    },
    {
     "name": "stderr",
     "output_type": "stream",
     "text": [
      "4008it [01:34, 44.84it/s]"
     ]
    },
    {
     "name": "stdout",
     "output_type": "stream",
     "text": [
      "Mean: [0.3868204653263092, 0.35579511523246765, 0.4214704930782318]; STD: [0.23327843844890594, 0.25002050399780273, 0.1672096848487854] at iter: 4000\n"
     ]
    },
    {
     "name": "stderr",
     "output_type": "stream",
     "text": [
      "5008it [01:56, 44.05it/s]"
     ]
    },
    {
     "name": "stdout",
     "output_type": "stream",
     "text": [
      "Mean: [0.386235773563385, 0.35512351989746094, 0.4209793508052826]; STD: [0.23288734257221222, 0.24960307776927948, 0.1669846475124359] at iter: 5000\n"
     ]
    },
    {
     "name": "stderr",
     "output_type": "stream",
     "text": [
      "6006it [02:19, 43.91it/s]"
     ]
    },
    {
     "name": "stdout",
     "output_type": "stream",
     "text": [
      "Mean: [0.38631191849708557, 0.35511717200279236, 0.420915812253952]; STD: [0.23272407054901123, 0.24944721162319183, 0.1667642593383789] at iter: 6000\n"
     ]
    },
    {
     "name": "stderr",
     "output_type": "stream",
     "text": [
      "7006it [02:42, 45.37it/s]"
     ]
    },
    {
     "name": "stdout",
     "output_type": "stream",
     "text": [
      "Mean: [0.3957250118255615, 0.36588719487190247, 0.43300318717956543]; STD: [0.2326100617647171, 0.24925550818443298, 0.16659614443778992] at iter: 7000\n"
     ]
    },
    {
     "name": "stderr",
     "output_type": "stream",
     "text": [
      "8006it [03:04, 45.58it/s]"
     ]
    },
    {
     "name": "stdout",
     "output_type": "stream",
     "text": [
      "Mean: [0.40602830052375793, 0.3776204586029053, 0.4461056888103485]; STD: [0.23263274133205414, 0.24920283257961273, 0.16595911979675293] at iter: 8000\n"
     ]
    },
    {
     "name": "stderr",
     "output_type": "stream",
     "text": [
      "9006it [03:25, 45.12it/s]"
     ]
    },
    {
     "name": "stdout",
     "output_type": "stream",
     "text": [
      "Mean: [0.41434475779533386, 0.3870469331741333, 0.45664018392562866]; STD: [0.2320428192615509, 0.2484857141971588, 0.1644807606935501] at iter: 9000\n"
     ]
    },
    {
     "name": "stderr",
     "output_type": "stream",
     "text": [
      "10006it [03:47, 45.90it/s]"
     ]
    },
    {
     "name": "stdout",
     "output_type": "stream",
     "text": [
      "Mean: [0.4205910861492157, 0.39420026540756226, 0.4647734463214874]; STD: [0.2313617616891861, 0.2476518750190735, 0.16292829811573029] at iter: 10000\n"
     ]
    },
    {
     "name": "stderr",
     "output_type": "stream",
     "text": [
      "11006it [04:10, 44.19it/s]"
     ]
    },
    {
     "name": "stdout",
     "output_type": "stream",
     "text": [
      "Mean: [0.4252470135688782, 0.3995523154735565, 0.47104185819625854]; STD: [0.2302820384502411, 0.2463453859090805, 0.1610473394393921] at iter: 11000\n"
     ]
    },
    {
     "name": "stderr",
     "output_type": "stream",
     "text": [
      "12006it [04:32, 46.51it/s]"
     ]
    },
    {
     "name": "stdout",
     "output_type": "stream",
     "text": [
      "Mean: [0.4296759366989136, 0.40456050634384155, 0.4766480028629303]; STD: [0.22962863743305206, 0.24554947018623352, 0.1594177484512329] at iter: 12000\n"
     ]
    },
    {
     "name": "stderr",
     "output_type": "stream",
     "text": [
      "13008it [04:54, 43.90it/s]"
     ]
    },
    {
     "name": "stdout",
     "output_type": "stream",
     "text": [
      "Mean: [0.4334765374660492, 0.40864098072052, 0.4809797704219818]; STD: [0.22914142906665802, 0.2450496107339859, 0.1579483300447464] at iter: 13000\n"
     ]
    },
    {
     "name": "stderr",
     "output_type": "stream",
     "text": [
      "14008it [05:17, 45.17it/s]"
     ]
    },
    {
     "name": "stdout",
     "output_type": "stream",
     "text": [
      "Mean: [0.4371803104877472, 0.41237005591392517, 0.4843369722366333]; STD: [0.22898565232753754, 0.24511177837848663, 0.15691320598125458] at iter: 14000\n"
     ]
    },
    {
     "name": "stderr",
     "output_type": "stream",
     "text": [
      "15005it [05:39, 41.29it/s]"
     ]
    },
    {
     "name": "stdout",
     "output_type": "stream",
     "text": [
      "Mean: [0.44027671217918396, 0.415473610162735, 0.4870412349700928]; STD: [0.22882352769374847, 0.24513855576515198, 0.1559288501739502] at iter: 15000\n"
     ]
    },
    {
     "name": "stderr",
     "output_type": "stream",
     "text": [
      "16008it [06:02, 43.67it/s]"
     ]
    },
    {
     "name": "stdout",
     "output_type": "stream",
     "text": [
      "Mean: [0.44314566254615784, 0.41834166646003723, 0.4896165430545807]; STD: [0.22866591811180115, 0.24516484141349792, 0.15502521395683289] at iter: 16000\n"
     ]
    },
    {
     "name": "stderr",
     "output_type": "stream",
     "text": [
      "17007it [06:25, 43.90it/s]"
     ]
    },
    {
     "name": "stdout",
     "output_type": "stream",
     "text": [
      "Mean: [0.44555315375328064, 0.4207759201526642, 0.49178647994995117]; STD: [0.22845174372196198, 0.24507559835910797, 0.1541958749294281] at iter: 17000\n"
     ]
    },
    {
     "name": "stderr",
     "output_type": "stream",
     "text": [
      "18004it [06:49, 31.41it/s]"
     ]
    },
    {
     "name": "stdout",
     "output_type": "stream",
     "text": [
      "Mean: [0.4476957321166992, 0.4229470193386078, 0.49380427598953247]; STD: [0.22828754782676697, 0.24503915011882782, 0.15340746939182281] at iter: 18000\n"
     ]
    },
    {
     "name": "stderr",
     "output_type": "stream",
     "text": [
      "18804it [07:13, 43.35it/s]\n"
     ]
    }
   ],
   "source": [
    "path_mean, path_std = compute_stats(\n",
    "    folderpath=Path('../data/patches/train/'),\n",
    "    image_ext= 'jpg')"
   ]
  },
  {
   "cell_type": "code",
   "execution_count": 5,
   "metadata": {},
   "outputs": [],
   "source": [
    "np.save('../model/path_mean.npy', path_mean)\n",
    "np.save('../model/path_std.npy', path_std) "
   ]
  },
  {
   "cell_type": "code",
   "execution_count": null,
   "metadata": {},
   "outputs": [],
   "source": [
    "path_mean = np.load('../model/path_mean.npy')\n",
    "path_std = np.load('../model/path_std.npy')"
   ]
  },
  {
   "cell_type": "code",
   "execution_count": 6,
   "metadata": {},
   "outputs": [
    {
     "name": "stdout",
     "output_type": "stream",
     "text": [
      "Creating dataset ...\n",
      "Loading dataloader ...\n",
      "3 classes: ['low', 'medium', 'high']\n",
      "num train images 18816\n",
      "num val images 336\n",
      "CUDA is_available: False\n",
      "Creating model ...\n"
     ]
    },
    {
     "name": "stderr",
     "output_type": "stream",
     "text": [
      "/Users/nahal/Documents/Education/Projects/TMA/h-score-prediction/.venv/lib/python3.9/site-packages/torchvision/models/_utils.py:208: UserWarning: The parameter 'pretrained' is deprecated since 0.13 and may be removed in the future, please use 'weights' instead.\n",
      "  warnings.warn(\n",
      "/Users/nahal/Documents/Education/Projects/TMA/h-score-prediction/.venv/lib/python3.9/site-packages/torchvision/models/_utils.py:223: UserWarning: Arguments other than a weight enum or `None` for 'weights' are deprecated since 0.13 and may be removed in the future. The current behavior is equivalent to passing `weights=ResNet18_Weights.IMAGENET1K_V1`. You can also use `weights=ResNet18_Weights.DEFAULT` to get the most up-to-date weights.\n",
      "  warnings.warn(msg)\n"
     ]
    },
    {
     "name": "stdout",
     "output_type": "stream",
     "text": [
      "train_folder: ../data/patches\n",
      "num_epochs: 30\n",
      "num_layers: 18\n",
      "learning_rate: 0.001\n",
      "batch_size: 16\n",
      "weight_decay: 0.0001\n",
      "learning_rate_decay: 0.85\n",
      "resume_checkpoint: False\n",
      "resume_checkpoint_path (only if resume_checkpoint is true): ../model/checkpoints/xyz.pt\n",
      "save_interval: 1\n",
      "output in checkpoints_folder: ../model/checkpoints\n",
      "pretrain: True\n",
      "log_csv: ../model/logs/log_10222023_15215.csv\n",
      "\n",
      "\n"
     ]
    }
   ],
   "source": [
    "device = torch.device(\"cuda:0\" if torch.cuda.is_available() else \"cpu\")\n",
    "log_csv = get_log_csv_name(log_folder=Path('../model/logs'))\n",
    "resume_checkpoint_path = Path(\"../model/checkpoints/xyz.pt\")\n",
    "\n",
    "\n",
    "train_resnet(\n",
    "    batch_size= 16,\n",
    "    checkpoints_folder= Path('../model/checkpoints'),\n",
    "    classes= ['low', 'medium', 'high'],\n",
    "    color_jitter_brightness= 0.5,\n",
    "    color_jitter_contrast= 0.5,\n",
    "    color_jitter_hue= 0.2,\n",
    "    color_jitter_saturation= 0.5,\n",
    "    device= device,\n",
    "    learning_rate= 0.001,\n",
    "    learning_rate_decay= 0.85,\n",
    "    log_csv= log_csv,\n",
    "    num_classes= 3,\n",
    "    num_layers= 18,\n",
    "    num_workers= 8,\n",
    "    path_mean= path_mean,\n",
    "    path_std= path_std,\n",
    "    pretrain= True,\n",
    "    resume_checkpoint= False,\n",
    "    resume_checkpoint_path= resume_checkpoint_path,\n",
    "    save_interval= 1,\n",
    "    num_epochs= 30,\n",
    "    train_folder= Path('../data/patches'),\n",
    "    weight_decay= 1e-4)"
   ]
  },
  {
   "cell_type": "code",
   "execution_count": null,
   "metadata": {},
   "outputs": [],
   "source": []
  }
 ],
 "metadata": {
  "kernelspec": {
   "display_name": ".venv",
   "language": "python",
   "name": "python3"
  },
  "language_info": {
   "codemirror_mode": {
    "name": "ipython",
    "version": 3
   },
   "file_extension": ".py",
   "mimetype": "text/x-python",
   "name": "python",
   "nbconvert_exporter": "python",
   "pygments_lexer": "ipython3",
   "version": "3.9.13"
  },
  "orig_nbformat": 4
 },
 "nbformat": 4,
 "nbformat_minor": 2
}
